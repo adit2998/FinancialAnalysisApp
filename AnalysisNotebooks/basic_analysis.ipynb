{
 "cells": [
  {
   "cell_type": "code",
   "execution_count": 2,
   "metadata": {},
   "outputs": [
    {
     "name": "stderr",
     "output_type": "stream",
     "text": [
      "/Users/aditkotwal/Library/Python/3.9/lib/python/site-packages/urllib3/__init__.py:35: NotOpenSSLWarning: urllib3 v2 only supports OpenSSL 1.1.1+, currently the 'ssl' module is compiled with 'LibreSSL 2.8.3'. See: https://github.com/urllib3/urllib3/issues/3020\n",
      "  warnings.warn(\n"
     ]
    }
   ],
   "source": [
    "import pandas as pd\n",
    "import numpy as np\n",
    "import requests\n",
    "from bs4 import BeautifulSoup\n",
    "import json\n",
    "import matplotlib.pyplot as plt\n",
    "import plotly.express as px"
   ]
  },
  {
   "cell_type": "code",
   "execution_count": 3,
   "metadata": {},
   "outputs": [],
   "source": [
    "headers = {\"User-Agent\": \"adit29my@gmail.com\"} "
   ]
  },
  {
   "cell_type": "code",
   "execution_count": null,
   "metadata": {},
   "outputs": [],
   "source": []
  },
  {
   "cell_type": "markdown",
   "metadata": {},
   "source": [
    "## Fetching historical data"
   ]
  },
  {
   "cell_type": "code",
   "execution_count": 4,
   "metadata": {},
   "outputs": [],
   "source": [
    "def getCIKNumber(ticker, headers=headers):\n",
    "    ticker = ticker.upper().replace(\".\", \"-\")\n",
    "    ticker_json = requests.get(\n",
    "        \"https://www.sec.gov/files/company_tickers.json\", headers=headers\n",
    "    ).json()\n",
    "\n",
    "    for company in ticker_json.values():\n",
    "        if company[\"ticker\"] == ticker:\n",
    "            cik = str(company[\"cik_str\"]).zfill(10)\n",
    "            return cik\n",
    "    raise ValueError(f\"Ticker {ticker} not found in SEC database\")"
   ]
  },
  {
   "cell_type": "code",
   "execution_count": 5,
   "metadata": {},
   "outputs": [],
   "source": [
    "def getSubmissionData(ticker, headers=headers):\n",
    "    cik = getCIKNumber(ticker)\n",
    "    headers = headers\n",
    "    url = f\"https://data.sec.gov/submissions/CIK{cik}.json\"\n",
    "    company_json = requests.get(url, headers=headers).json()\n",
    "    \n",
    "    return pd.DataFrame(company_json[\"filings\"][\"recent\"])"
   ]
  },
  {
   "cell_type": "code",
   "execution_count": 6,
   "metadata": {},
   "outputs": [],
   "source": [
    "def getFilteredFilings(ticker, form, headers=headers):\n",
    "    company_filings_df = getSubmissionData(\n",
    "        ticker, headers=headers\n",
    "    )\n",
    "    if (form=='ten_k'):\n",
    "        df = company_filings_df[company_filings_df[\"form\"] == \"10-K\"]\n",
    "    elif (form=='ten_q'):\n",
    "        df = company_filings_df[company_filings_df[\"form\"] == \"10-Q\"]\n",
    "    \n",
    "    df = df.set_index(\"reportDate\")\n",
    "    accession_df = df[\"accessionNumber\"]\n",
    "    return accession_df    "
   ]
  },
  {
   "cell_type": "code",
   "execution_count": 7,
   "metadata": {},
   "outputs": [],
   "source": [
    "def getFacts(ticker, headers=headers):\n",
    "    cik = getCIKNumber(ticker)\n",
    "    url = f\"https://data.sec.gov/api/xbrl/companyfacts/CIK{cik}.json\"\n",
    "    company_facts = requests.get(url, headers=headers).json()\n",
    "    return company_facts"
   ]
  },
  {
   "cell_type": "code",
   "execution_count": 8,
   "metadata": {},
   "outputs": [],
   "source": [
    "def getFactsDF(ticker, headers=headers):\n",
    "    facts = getFacts(ticker, headers)\n",
    "    us_gaap_data = facts[\"facts\"][\"us-gaap\"]\n",
    "    df_data = []\n",
    "    for fact, details in us_gaap_data.items():\n",
    "        for unit in details[\"units\"]:\n",
    "            for item in details[\"units\"][unit]:\n",
    "                row = item.copy()\n",
    "                row[\"fact\"] = fact\n",
    "                df_data.append(row)\n",
    "\n",
    "    df = pd.DataFrame(df_data)\n",
    "    df[\"end\"] = pd.to_datetime(df[\"end\"])\n",
    "    df[\"start\"] = pd.to_datetime(df[\"start\"])\n",
    "    df = df.drop_duplicates(subset=[\"fact\", \"end\", \"val\"])\n",
    "    df.set_index(\"end\", inplace=True)\n",
    "    labels_dict = {fact: details[\"label\"] for fact, details in us_gaap_data.items()}\n",
    "    return df, labels_dict"
   ]
  },
  {
   "cell_type": "code",
   "execution_count": 9,
   "metadata": {},
   "outputs": [],
   "source": [
    "def getAnnualFacts(ticker, headers=headers):\n",
    "    accession_nums = getFilteredFilings(ticker, form='ten_k')\n",
    "    df, label_dict = getFactsDF(ticker, headers)\n",
    "    ten_k = df[df[\"accn\"].isin(accession_nums)]\n",
    "    ten_k = ten_k[ten_k.index.isin(accession_nums.index)]\n",
    "    pivot = ten_k.pivot_table(values=\"val\", columns=\"fact\", index=\"end\")\n",
    "    pivot.rename(columns=label_dict, inplace=True)\n",
    "    return pivot.T"
   ]
  },
  {
   "cell_type": "code",
   "execution_count": 10,
   "metadata": {},
   "outputs": [],
   "source": [
    "def getQuarterlyFacts(ticker, headers=headers):\n",
    "    accession_nums = getFilteredFilings(ticker, form='ten_q')\n",
    "    df, label_dict = getFactsDF(ticker, headers)\n",
    "    ten_q = df[df[\"accn\"].isin(accession_nums)]\n",
    "    ten_q = ten_q[ten_q.index.isin(accession_nums.index)].reset_index(drop=False)\n",
    "    ten_q = ten_q.drop_duplicates(subset=[\"fact\", \"end\"], keep=\"last\")\n",
    "    pivot = ten_q.pivot_table(values=\"val\", columns=\"fact\", index=\"end\")\n",
    "    pivot.rename(columns=label_dict, inplace=True)\n",
    "    return pivot.T"
   ]
  },
  {
   "cell_type": "code",
   "execution_count": 11,
   "metadata": {},
   "outputs": [],
   "source": [
    "def getHistoricalData(ticker):\n",
    "    quarterlyDF = getQuarterlyFacts(ticker)\n",
    "    annualDF = getAnnualFacts(ticker)\n",
    "\n",
    "    # Step 1: Find common rows\n",
    "    common_indices = quarterlyDF.index.intersection(annualDF.index)\n",
    "\n",
    "    # Step 2: Subset DataFrames to common rows\n",
    "    Df1_common = quarterlyDF.loc[common_indices]\n",
    "    Df2_common = annualDF.loc[common_indices]\n",
    "\n",
    "    # Step 3: Combine the two DataFrames\n",
    "    combined_df = pd.concat([Df1_common, Df2_common], axis=1)\n",
    "\n",
    "    # Step 4: Sort the columns by date\n",
    "    combined_df = combined_df.reindex(sorted(combined_df.columns), axis=1)\n",
    "\n",
    "    return combined_df"
   ]
  },
  {
   "cell_type": "code",
   "execution_count": null,
   "metadata": {},
   "outputs": [],
   "source": []
  },
  {
   "cell_type": "code",
   "execution_count": null,
   "metadata": {},
   "outputs": [],
   "source": []
  },
  {
   "cell_type": "markdown",
   "metadata": {},
   "source": [
    "## Financial Ratios"
   ]
  },
  {
   "cell_type": "code",
   "execution_count": 14,
   "metadata": {},
   "outputs": [],
   "source": [
    "def addColumns(df, ratioDictionary):\n",
    "    for col_name, (required_cols, operation) in ratioDictionary.items():\n",
    "        if all(col in df.columns for col in required_cols):\n",
    "            df[col_name] = operation(df)\n",
    "        else:\n",
    "            print(f\"Skipping '{col_name}': Missing required columns {required_cols}.\")\n",
    "    return df"
   ]
  },
  {
   "cell_type": "code",
   "execution_count": 15,
   "metadata": {},
   "outputs": [],
   "source": [
    "def calculateRatios(dataDf):\n",
    "    \n",
    "    df = pd.DataFrame(dataDf).T\n",
    "    df.index = pd.to_datetime(df.index)\n",
    "\n",
    "    if 'Revenue, Net (Deprecated 2018-01-31)' in df.columns:\n",
    "        df['Effective Revenue'] = df['Revenue, Net (Deprecated 2018-01-31)'].fillna(df['Revenue from Contract with Customer, Excluding Assessed Tax'])\n",
    "    else:\n",
    "        df['Effective Revenue'] = df['Revenue from Contract with Customer, Excluding Assessed Tax']\n",
    "    \n",
    "    df['Operating Margin Ratio'] = df['Operating Income (Loss)'] / df['Effective Revenue']\n",
    "    ratioDictionary = {\n",
    "        'Gross Margin Ratio': (['Gross Profit', 'Effective Revenue'], lambda df: df['Gross Profit'] / df['Effective Revenue']),\n",
    "        'Operating Margin Ratio': (['Operating Income (Loss)', 'Effective Revenue'], lambda df: df['Operating Income (Loss)'] / df['Effective Revenue']),\n",
    "    }\n",
    "\n",
    "    df_with_ratios = addColumns(df, ratioDictionary)\n",
    "    return df_with_ratios"
   ]
  },
  {
   "cell_type": "code",
   "execution_count": null,
   "metadata": {},
   "outputs": [],
   "source": []
  }
 ],
 "metadata": {
  "kernelspec": {
   "display_name": "Python 3",
   "language": "python",
   "name": "python3"
  },
  "language_info": {
   "codemirror_mode": {
    "name": "ipython",
    "version": 3
   },
   "file_extension": ".py",
   "mimetype": "text/x-python",
   "name": "python",
   "nbconvert_exporter": "python",
   "pygments_lexer": "ipython3",
   "version": "3.9.6"
  }
 },
 "nbformat": 4,
 "nbformat_minor": 2
}
